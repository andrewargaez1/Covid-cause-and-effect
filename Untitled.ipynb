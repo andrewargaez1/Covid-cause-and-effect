{
 "cells": [
  {
   "cell_type": "code",
   "execution_count": 1,
   "id": "7e9575b2-5320-4b69-b8b1-70b5c89c22f3",
   "metadata": {},
   "outputs": [],
   "source": [
    "import pandas as pd \n",
    "import matplotlib.pyplot as plt \n",
    "import numpy as np \n",
    "import os\n",
    "import requests  \n",
    "import pyspark as ps\n",
    "import re\n",
    "from pyspark.sql.functions import udf, concat, col, lit\n",
    "from numpy.core.fromnumeric import shape\n",
    "from pyspark.sql.types import *\n",
    "from pyspark.sql import functions as f"
   ]
  },
  {
   "cell_type": "code",
   "execution_count": 2,
   "id": "d3bc20ec-2b0f-4ce8-9429-ad0fb8ae8819",
   "metadata": {},
   "outputs": [],
   "source": [
    "spark = (ps.sql.SparkSession.builder \n",
    "        .master(\"local[4]\") \n",
    "        .appName(\"sparkSQL exercise\") \n",
    "        .getOrCreate()\n",
    "        )\n",
    "sc = spark.sparkContext"
   ]
  },
  {
   "cell_type": "code",
   "execution_count": 3,
   "id": "d02408d0-d6a3-4a3b-ab18-4af180962822",
   "metadata": {},
   "outputs": [],
   "source": [
    "yourpath = './COVID-19/csse_covid_19_data/csse_covid_19_daily_reports_us/'\n",
    "\n",
    "dict = {}\n",
    "for root, dirs, files in os.walk(yourpath, topdown=False):\n",
    "    for name in files:\n",
    "        dict[name[:-4]]= pd.read_csv(yourpath+name)"
   ]
  },
  {
   "cell_type": "code",
   "execution_count": 4,
   "id": "11bd2406-fb4f-4bf2-ac49-b3d4249bb9c7",
   "metadata": {},
   "outputs": [],
   "source": [
    "pop_density= pd.read_csv('./Population-Density_By_State.csv', delimiter=',')  \n",
    "pop_density.rename(columns={'GEO.display-label':'States'}, inplace=True)\n",
    "pop_density.drop(columns=['GEO.id','GEO.id2'], axis=1, inplace=True)\n",
    "pop_density.drop(index=[51],axis=0, inplace=True)\n",
    "\n",
    "#pop_density=  spark.read.options(header='True', inferSchema='True',delimiter=',').csv('./Population-Density_By_State.csv')\n",
    "\n",
    "#pop_density= spark.sql('SELECT GEO.display-label as Sates FROM pop_density')\n",
    "#pop_density.show()"
   ]
  },
  {
   "cell_type": "code",
   "execution_count": 5,
   "id": "7266ed64-6e00-4c52-887c-8d29327b42e2",
   "metadata": {},
   "outputs": [],
   "source": [
    "dc =pd.Series({'state_name':'District of Columbia','party':'democrat','name':'Muriel Bowser'})\n",
    "governor= pd.read_csv('./us-governors.csv', delimiter=',')\n",
    "pop_density.rename(columns={'state_name':'States'}, inplace=True)\n",
    "governor.drop(columns=['state_name_slug','state_code','state_code_slug','votesmart','title','name_slug','first_name','middle_name','last_name','name_suffix','goes_by','pronunciation','gender','ethnicity','religion','openly_lgbtq','date_of_birth','entered_office','term_end','biography','phone','fax','latitude','longitude','address_complete','address_number','address_prefix','address_street','address_sec_unit_type','address_sec_unit_num','address_city','address_state','address_zipcode','address_type','website','contact_page','facebook_url','twitter_handle','twitter_url','photo_url'], axis=1, inplace=True)\n",
    "poli_leader = governor.append(dc,ignore_index=True)\n",
    "poli_leader = poli_leader.sort_values(by=['state_name'])"
   ]
  },
  {
   "cell_type": "code",
   "execution_count": 6,
   "id": "08ce0386-93a0-4546-9758-736396a2ec76",
   "metadata": {},
   "outputs": [],
   "source": [
    "city_pop = pd.read_csv('./PopbyCIty.csv', engine='python', delimiter='\\t')"
   ]
  },
  {
   "cell_type": "code",
   "execution_count": 7,
   "id": "a8f1b48c-789a-4a88-bade-37a590c81165",
   "metadata": {},
   "outputs": [
    {
     "name": "stdout",
     "output_type": "stream",
     "text": [
      "+--------+--------+\n",
      "|2020rank|estimate|\n",
      "+--------+--------+\n",
      "|       1| 8253213|\n",
      "|       2| 3970219|\n",
      "|       3| 2677643|\n",
      "|       4| 2316120|\n",
      "|       5| 1708127|\n",
      "|       6| 1578487|\n",
      "|       7| 1567118|\n",
      "|       8| 1422420|\n",
      "|       9| 1343266|\n",
      "|      10| 1013616|\n",
      "|      11|  995484|\n",
      "|      12|  927720|\n",
      "|      13|  920570|\n",
      "|      14|  903852|\n",
      "|      15|  900350|\n",
      "|      16|  877903|\n",
      "|      17|  866606|\n",
      "|      18|  769714|\n",
      "|      19|  735538|\n",
      "|      20|  712816|\n",
      "+--------+--------+\n",
      "only showing top 20 rows\n",
      "\n"
     ]
    }
   ],
   "source": [
    "citypop = spark.read.options(header='True', inferSchema='True', delimiter='\\t').csv('./popcity.csv')\n",
    "citypop.createOrReplaceTempView('cp')\n",
    "commaRep = udf(lambda x: re.sub(',','', x))\n",
    "test=citypop.select('2020rank',col(\"estimate\").alias('estimate'))\n",
    "test=test.withColumn('estimate',commaRep('estimate'))\n",
    "test=test.withColumn(\"estimate\",test.estimate.cast(IntegerType()))\n",
    "test.show()"
   ]
  },
  {
   "cell_type": "code",
   "execution_count": 8,
   "id": "edcdaaab-688b-479e-a87e-6697555ea0fd",
   "metadata": {},
   "outputs": [],
   "source": [
    "c1 = spark.sql('SELECT State as States, COUNT(State) as Cities_100 FROM cp GROUP BY State ORDER BY State')\n",
    "cit_100 = c1.toPandas()\n",
    "ss =pd.DataFrame({'States':[' West Virginia',' Maine',' Vermont', ' Wyoming',' Delaware'], 'Cities_100':[0,0,0,0,0]})\n",
    "cit_100 = cit_100.append(ss,ignore_index=True)\n",
    "cit_100 = cit_100.sort_values(by=['States'])"
   ]
  },
  {
   "cell_type": "code",
   "execution_count": 9,
   "id": "e3fcdde5-5586-4eed-82ac-a4d427e04aa6",
   "metadata": {},
   "outputs": [
    {
     "name": "stdout",
     "output_type": "stream",
     "text": [
      "+-----+-----+\n",
      "|State|Count|\n",
      "+-----+-----+\n",
      "+-----+-----+\n",
      "\n"
     ]
    }
   ],
   "source": [
    "cit_500= spark.sql('SELECT State, COUNT(State) as Count FROM cp WHERE estimate>500000 GROUP BY State ORDER BY State')\n",
    "cit_500.show()"
   ]
  },
  {
   "cell_type": "code",
   "execution_count": 10,
   "id": "2a1fc1ba-c4fb-4547-a4f5-0cf09709173a",
   "metadata": {},
   "outputs": [],
   "source": [
    "twentyone={}\n",
    "twenty = {}\n",
    "\n",
    "for k,v in dict.items():\n",
    "    if k[-1]=='1':\n",
    "        \n",
    "        twentyone[k]=v\n",
    "    else:\n",
    "        twenty[k]=v     "
   ]
  },
  {
   "cell_type": "code",
   "execution_count": 11,
   "id": "d796b78d-6283-49b9-82b5-d7eb5aafbdfe",
   "metadata": {},
   "outputs": [],
   "source": [
    "df = pd.DataFrame()\n",
    "for k,v in sorted(twenty.items()):\n",
    "    df['States']= v['Province_State']\n",
    "    df['Lat']= v['Lat']\n",
    "    df['Long']= v['Long_']\n",
    "    break\n",
    "df.sort_values(by='States')\n",
    "df.drop(index=[2,9,13,14,39,42,52,58], inplace=True)"
   ]
  },
  {
   "cell_type": "code",
   "execution_count": 12,
   "id": "d6616c35-f3e4-491b-a0fe-00d2c7927fcd",
   "metadata": {},
   "outputs": [],
   "source": [
    "new_df= df.merge(pop_density['Density per square mile of land area'], on=pop_density['States'], how='left')\n",
    "new_df.drop(columns='key_0', inplace=True)\n",
    "new_df1= new_df.merge(poli_leader['party'], on=pop_density['States'], how='left')\n",
    "new_df1.drop(columns='key_0', inplace=True)\n",
    "new_df2= new_df1.merge(cit_100['Cities_100'], on=pop_density['States'], how='inner')\n",
    "new_df2.drop(columns='key_0', inplace=True)"
   ]
  },
  {
   "cell_type": "code",
   "execution_count": 13,
   "id": "bc408022-e399-46eb-aab5-ab53da4267a3",
   "metadata": {},
   "outputs": [],
   "source": [
    "for k,v in sorted(twenty.items()):\n",
    "    v.sort_values(by='Province_State')\n",
    "    v.drop(index=[2,9,13,14,39,42,52], inplace=True)\n",
    "    v.index=range(0,len(v))\n",
    "for k,v in sorted(twentyone.items()):\n",
    "    v.sort_values(by='Province_State')\n",
    "    v.drop(index=[2,9,13,14,39,42,52], inplace=True)\n",
    "    v.index=range(0,len(v))"
   ]
  },
  {
   "cell_type": "code",
   "execution_count": 14,
   "id": "bbe31766-0a87-4a01-ae5b-e381c391c61d",
   "metadata": {},
   "outputs": [],
   "source": [
    "for k,v in sorted(twenty.items()):\n",
    "    #lst.append(v['Confirmed'])\n",
    "    #lst.append(v['Deaths'])\n",
    "    new_df2[k + ' confirmed'] = v['Confirmed']\n",
    "    new_df2[k + ' deaths'] = v['Deaths']\n",
    "\n",
    "for k,v in sorted(twentyone.items()):\n",
    "    new_df2[k + ' confirmed'] = v['Confirmed']\n",
    "    new_df2[k + ' deaths'] = v['Deaths']"
   ]
  },
  {
   "cell_type": "code",
   "execution_count": 66,
   "id": "a52b5fa8-84bb-4361-a36b-d713696e0314",
   "metadata": {},
   "outputs": [
    {
     "data": {
      "text/html": [
       "<div>\n",
       "<style scoped>\n",
       "    .dataframe tbody tr th:only-of-type {\n",
       "        vertical-align: middle;\n",
       "    }\n",
       "\n",
       "    .dataframe tbody tr th {\n",
       "        vertical-align: top;\n",
       "    }\n",
       "\n",
       "    .dataframe thead th {\n",
       "        text-align: right;\n",
       "    }\n",
       "</style>\n",
       "<table border=\"1\" class=\"dataframe\">\n",
       "  <thead>\n",
       "    <tr style=\"text-align: right;\">\n",
       "      <th></th>\n",
       "    </tr>\n",
       "  </thead>\n",
       "  <tbody>\n",
       "    <tr>\n",
       "      <th>16</th>\n",
       "    </tr>\n",
       "    <tr>\n",
       "      <th>31</th>\n",
       "    </tr>\n",
       "    <tr>\n",
       "      <th>30</th>\n",
       "    </tr>\n",
       "    <tr>\n",
       "      <th>28</th>\n",
       "    </tr>\n",
       "    <tr>\n",
       "      <th>37</th>\n",
       "    </tr>\n",
       "    <tr>\n",
       "      <th>49</th>\n",
       "    </tr>\n",
       "    <tr>\n",
       "      <th>38</th>\n",
       "    </tr>\n",
       "    <tr>\n",
       "      <th>23</th>\n",
       "    </tr>\n",
       "    <tr>\n",
       "      <th>22</th>\n",
       "    </tr>\n",
       "    <tr>\n",
       "      <th>39</th>\n",
       "    </tr>\n",
       "    <tr>\n",
       "      <th>19</th>\n",
       "    </tr>\n",
       "    <tr>\n",
       "      <th>18</th>\n",
       "    </tr>\n",
       "    <tr>\n",
       "      <th>17</th>\n",
       "    </tr>\n",
       "    <tr>\n",
       "      <th>32</th>\n",
       "    </tr>\n",
       "    <tr>\n",
       "      <th>33</th>\n",
       "    </tr>\n",
       "    <tr>\n",
       "      <th>6</th>\n",
       "    </tr>\n",
       "    <tr>\n",
       "      <th>13</th>\n",
       "    </tr>\n",
       "    <tr>\n",
       "      <th>48</th>\n",
       "    </tr>\n",
       "    <tr>\n",
       "      <th>11</th>\n",
       "    </tr>\n",
       "    <tr>\n",
       "      <th>47</th>\n",
       "    </tr>\n",
       "    <tr>\n",
       "      <th>46</th>\n",
       "    </tr>\n",
       "    <tr>\n",
       "      <th>8</th>\n",
       "    </tr>\n",
       "    <tr>\n",
       "      <th>7</th>\n",
       "    </tr>\n",
       "    <tr>\n",
       "      <th>5</th>\n",
       "    </tr>\n",
       "    <tr>\n",
       "      <th>4</th>\n",
       "    </tr>\n",
       "    <tr>\n",
       "      <th>35</th>\n",
       "    </tr>\n",
       "    <tr>\n",
       "      <th>36</th>\n",
       "    </tr>\n",
       "    <tr>\n",
       "      <th>41</th>\n",
       "    </tr>\n",
       "    <tr>\n",
       "      <th>45</th>\n",
       "    </tr>\n",
       "    <tr>\n",
       "      <th>40</th>\n",
       "    </tr>\n",
       "    <tr>\n",
       "      <th>44</th>\n",
       "    </tr>\n",
       "    <tr>\n",
       "      <th>43</th>\n",
       "    </tr>\n",
       "    <tr>\n",
       "      <th>42</th>\n",
       "    </tr>\n",
       "    <tr>\n",
       "      <th>0</th>\n",
       "    </tr>\n",
       "    <tr>\n",
       "      <th>25</th>\n",
       "    </tr>\n",
       "    <tr>\n",
       "      <th>29</th>\n",
       "    </tr>\n",
       "    <tr>\n",
       "      <th>27</th>\n",
       "    </tr>\n",
       "    <tr>\n",
       "      <th>26</th>\n",
       "    </tr>\n",
       "    <tr>\n",
       "      <th>24</th>\n",
       "    </tr>\n",
       "    <tr>\n",
       "      <th>21</th>\n",
       "    </tr>\n",
       "    <tr>\n",
       "      <th>20</th>\n",
       "    </tr>\n",
       "    <tr>\n",
       "      <th>15</th>\n",
       "    </tr>\n",
       "    <tr>\n",
       "      <th>14</th>\n",
       "    </tr>\n",
       "    <tr>\n",
       "      <th>12</th>\n",
       "    </tr>\n",
       "    <tr>\n",
       "      <th>10</th>\n",
       "    </tr>\n",
       "    <tr>\n",
       "      <th>9</th>\n",
       "    </tr>\n",
       "    <tr>\n",
       "      <th>3</th>\n",
       "    </tr>\n",
       "    <tr>\n",
       "      <th>2</th>\n",
       "    </tr>\n",
       "    <tr>\n",
       "      <th>1</th>\n",
       "    </tr>\n",
       "    <tr>\n",
       "      <th>34</th>\n",
       "    </tr>\n",
       "    <tr>\n",
       "      <th>50</th>\n",
       "    </tr>\n",
       "  </tbody>\n",
       "</table>\n",
       "</div>"
      ],
      "text/plain": [
       "Empty DataFrame\n",
       "Columns: []\n",
       "Index: [16, 31, 30, 28, 37, 49, 38, 23, 22, 39, 19, 18, 17, 32, 33, 6, 13, 48, 11, 47, 46, 8, 7, 5, 4, 35, 36, 41, 45, 40, 44, 43, 42, 0, 25, 29, 27, 26, 24, 21, 20, 15, 14, 12, 10, 9, 3, 2, 1, 34, 50]"
      ]
     },
     "execution_count": 66,
     "metadata": {},
     "output_type": "execute_result"
    }
   ],
   "source": [
    "party_group=new_df2.sort_values(by='party')\n",
    "party_group.filter(party_group['party']=='democrat')"
   ]
  },
  {
   "cell_type": "code",
   "execution_count": 50,
   "id": "fb5ecf28-350a-4613-a0b4-bb51f70d84ba",
   "metadata": {},
   "outputs": [],
   "source": [
    "confirmed_cases=new_df2.iloc[3,6::2]"
   ]
  },
  {
   "cell_type": "code",
   "execution_count": 52,
   "id": "eba259f8-f0f6-476d-971b-536f0b9d3f59",
   "metadata": {},
   "outputs": [
    {
     "data": {
      "image/png": "[encoded data removed]",
      "text/plain": [
       "<Figure size 360x360 with 1 Axes>"
      ]
     },
     "metadata": {
      "needs_background": "light"
     },
     "output_type": "display_data"
    }
   ],
   "source": [
    "confirmed_deaths=new_df2.iloc[3,7::2]\n",
    "confirmed_deaths.T.plot(figsize=(5,5));"
   ]
  },
  {
   "cell_type": "code",
   "execution_count": 51,
   "id": "0acda5c5-b1e8-419d-aed6-6b77ff04468c",
   "metadata": {},
   "outputs": [
    {
     "data": {
      "image/png": "[encoded data removed]",
      "text/plain": [
       "<Figure size 360x360 with 1 Axes>"
      ]
     },
     "metadata": {
      "needs_background": "light"
     },
     "output_type": "display_data"
    }
   ],
   "source": [
    "confirmed_cases.plot(figsize=(5,5));"
   ]
  },
  {
   "cell_type": "code",
   "execution_count": null,
   "id": "e204204a-578a-4abc-be95-87bc5e360c12",
   "metadata": {},
   "outputs": [],
   "source": []
  }
 ],
 "metadata": {
  "kernelspec": {
   "display_name": "Python 3",
   "language": "python",
   "name": "python3"
  },
  "language_info": {
   "codemirror_mode": {
    "name": "ipython",
    "version": 3
   },
   "file_extension": ".py",
   "mimetype": "text/x-python",
   "name": "python",
   "nbconvert_exporter": "python",
   "pygments_lexer": "ipython3",
   "version": "3.9.4"
  }
 },
 "nbformat": 4,
 "nbformat_minor": 5
}
